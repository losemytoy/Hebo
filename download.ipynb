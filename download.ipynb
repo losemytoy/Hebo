{
 "cells": [
  {
   "cell_type": "code",
   "execution_count": 1,
   "metadata": {
    "collapsed": true,
    "ExecuteTime": {
     "end_time": "2023-06-15T10:09:39.241919Z",
     "start_time": "2023-06-15T10:09:37.758096100Z"
    }
   },
   "outputs": [],
   "source": [
    "import ee"
   ]
  },
  {
   "cell_type": "code",
   "execution_count": 7,
   "metadata": {
    "collapsed": false,
    "ExecuteTime": {
     "end_time": "2023-06-10T10:07:42.423724300Z",
     "start_time": "2023-06-10T10:07:12.813751100Z"
    }
   },
   "outputs": [
    {
     "data": {
      "text/plain": "<IPython.core.display.HTML object>",
      "text/html": "<p>To authorize access needed by Earth Engine, open the following\n        URL in a web browser and follow the instructions:</p>\n        <p><a href=https://code.earthengine.google.com/client-auth?scopes=https%3A//www.googleapis.com/auth/earthengine%20https%3A//www.googleapis.com/auth/devstorage.full_control&request_id=JI0-K9lQOh47dl2HyhcwYKTr97o7QXetsYFqZvlCICc&tc=Lgc29yKRy6froPlyPydQfqjaGlPC9d2y-j8S0Ksu0Jg&cc=N9JsCNERxl8yQXTc3ZJdrjG7kQI1LjG-Aom_FWsB0sI>https://code.earthengine.google.com/client-auth?scopes=https%3A//www.googleapis.com/auth/earthengine%20https%3A//www.googleapis.com/auth/devstorage.full_control&request_id=JI0-K9lQOh47dl2HyhcwYKTr97o7QXetsYFqZvlCICc&tc=Lgc29yKRy6froPlyPydQfqjaGlPC9d2y-j8S0Ksu0Jg&cc=N9JsCNERxl8yQXTc3ZJdrjG7kQI1LjG-Aom_FWsB0sI</a></p>\n        <p>The authorization workflow will generate a code, which you should paste in the box below.</p>\n        "
     },
     "metadata": {},
     "output_type": "display_data"
    },
    {
     "name": "stdout",
     "output_type": "stream",
     "text": [
      "\n",
      "Successfully saved authorization token.\n"
     ]
    }
   ],
   "source": [
    "# Trigger the authentication flow.\n",
    "ee.Authenticate()\n",
    "# 4/1AbUR2VNsudZwKwIf3Pd6nglRp7KHrD3seuudhf2IQrJut7GGm4DE59CiHi8"
   ]
  },
  {
   "cell_type": "code",
   "execution_count": 2,
   "metadata": {
    "collapsed": false,
    "ExecuteTime": {
     "end_time": "2023-06-15T10:09:41.778330900Z",
     "start_time": "2023-06-15T10:09:39.245982400Z"
    }
   },
   "outputs": [],
   "source": [
    "# Initialize the library.\n",
    "ee.Initialize()"
   ]
  },
  {
   "cell_type": "code",
   "execution_count": 6,
   "metadata": {
    "ExecuteTime": {
     "end_time": "2023-06-03T08:38:32.904369100Z",
     "start_time": "2023-06-03T08:38:32.888743700Z"
    },
    "collapsed": false
   },
   "outputs": [],
   "source": [
    "sentinel_1 = ee.ImageCollection(\"COPERNICUS/S1_GRD\")\n",
    "sentinel_2 = ee.ImageCollection(\"COPERNICUS/S2_SR_HARMONIZED\")"
   ]
  },
  {
   "cell_type": "code",
   "execution_count": 35,
   "metadata": {
    "ExecuteTime": {
     "end_time": "2023-06-03T09:50:04.418923600Z",
     "start_time": "2023-06-03T09:50:04.387680500Z"
    },
    "collapsed": false
   },
   "outputs": [],
   "source": [
    "start_date = '2022-01-01'\n",
    "end_date = '2023-06-01'\n",
    "# lst_sentinel2 = sentinel_2.select('B4','B3','B2').filter(start_date,end_date)"
   ]
  },
  {
   "cell_type": "code",
   "execution_count": 3,
   "metadata": {
    "collapsed": false,
    "ExecuteTime": {
     "end_time": "2023-06-15T10:09:49.323173400Z",
     "start_time": "2023-06-15T10:09:41.784421900Z"
    }
   },
   "outputs": [],
   "source": [
    "import geopandas as gpd\n",
    "from pyproj import CRS\n",
    "baleh_file = gpd.read_file('D:\\\\OneDrive - The University of Nottingham\\\\Dissertation\\\\Baleh_project\\\\shp\\\\available_date.shp')\n",
    "# special_data = baleh_file.iloc[368,369:1,5]\n",
    "# target_crs = CRS.from_epsg(32648)\n",
    "# shp_df = special_data.to_crs(target_crs)"
   ]
  },
  {
   "cell_type": "code",
   "execution_count": 4,
   "metadata": {
    "collapsed": false,
    "ExecuteTime": {
     "end_time": "2023-06-15T10:09:49.493111100Z",
     "start_time": "2023-06-15T10:09:49.327164700Z"
    }
   },
   "outputs": [
    {
     "data": {
      "text/plain": "     Category    ID  Latitude  Longitude                     Date  \\\n7713     Mone  58.0   20.4799    94.2553  2019-01-21 11:29:11 UTC   \n7714     Mone  58.0   20.4799    94.2553  2019-01-28 08:42:51 UTC   \n7715     Mone  58.0   20.4799    94.2553  2019-02-14 02:12:15 UTC   \n7716     Mone  58.0   20.4799    94.2553  2019-05-15 23:47:42 UTC   \n7717     Mone  58.0   20.4799    94.2553  2019-06-13 02:45:22 UTC   \n...       ...   ...       ...        ...                      ...   \n7955     Mone  58.0   20.4799    94.2553  2023-01-16 11:18:11 UTC   \n7956     Mone  58.0   20.4799    94.2553  2023-01-24 08:03:58 UTC   \n7957     Mone  58.0   20.4799    94.2553  2023-01-28 06:26:43 UTC   \n7958     Mone  58.0   20.4799    94.2553  2023-02-01 04:49:00 UTC   \n7959     Mone  58.0   20.4799    94.2553  2023-02-09 11:26:56 UTC   \n\n                       geometry  \n7713  POINT (94.25530 20.47990)  \n7714  POINT (94.25530 20.47990)  \n7715  POINT (94.25530 20.47990)  \n7716  POINT (94.25530 20.47990)  \n7717  POINT (94.25530 20.47990)  \n...                         ...  \n7955  POINT (94.25530 20.47990)  \n7956  POINT (94.25530 20.47990)  \n7957  POINT (94.25530 20.47990)  \n7958  POINT (94.25530 20.47990)  \n7959  POINT (94.25530 20.47990)  \n\n[247 rows x 6 columns]",
      "text/html": "<div>\n<style scoped>\n    .dataframe tbody tr th:only-of-type {\n        vertical-align: middle;\n    }\n\n    .dataframe tbody tr th {\n        vertical-align: top;\n    }\n\n    .dataframe thead th {\n        text-align: right;\n    }\n</style>\n<table border=\"1\" class=\"dataframe\">\n  <thead>\n    <tr style=\"text-align: right;\">\n      <th></th>\n      <th>Category</th>\n      <th>ID</th>\n      <th>Latitude</th>\n      <th>Longitude</th>\n      <th>Date</th>\n      <th>geometry</th>\n    </tr>\n  </thead>\n  <tbody>\n    <tr>\n      <th>7713</th>\n      <td>Mone</td>\n      <td>58.0</td>\n      <td>20.4799</td>\n      <td>94.2553</td>\n      <td>2019-01-21 11:29:11 UTC</td>\n      <td>POINT (94.25530 20.47990)</td>\n    </tr>\n    <tr>\n      <th>7714</th>\n      <td>Mone</td>\n      <td>58.0</td>\n      <td>20.4799</td>\n      <td>94.2553</td>\n      <td>2019-01-28 08:42:51 UTC</td>\n      <td>POINT (94.25530 20.47990)</td>\n    </tr>\n    <tr>\n      <th>7715</th>\n      <td>Mone</td>\n      <td>58.0</td>\n      <td>20.4799</td>\n      <td>94.2553</td>\n      <td>2019-02-14 02:12:15 UTC</td>\n      <td>POINT (94.25530 20.47990)</td>\n    </tr>\n    <tr>\n      <th>7716</th>\n      <td>Mone</td>\n      <td>58.0</td>\n      <td>20.4799</td>\n      <td>94.2553</td>\n      <td>2019-05-15 23:47:42 UTC</td>\n      <td>POINT (94.25530 20.47990)</td>\n    </tr>\n    <tr>\n      <th>7717</th>\n      <td>Mone</td>\n      <td>58.0</td>\n      <td>20.4799</td>\n      <td>94.2553</td>\n      <td>2019-06-13 02:45:22 UTC</td>\n      <td>POINT (94.25530 20.47990)</td>\n    </tr>\n    <tr>\n      <th>...</th>\n      <td>...</td>\n      <td>...</td>\n      <td>...</td>\n      <td>...</td>\n      <td>...</td>\n      <td>...</td>\n    </tr>\n    <tr>\n      <th>7955</th>\n      <td>Mone</td>\n      <td>58.0</td>\n      <td>20.4799</td>\n      <td>94.2553</td>\n      <td>2023-01-16 11:18:11 UTC</td>\n      <td>POINT (94.25530 20.47990)</td>\n    </tr>\n    <tr>\n      <th>7956</th>\n      <td>Mone</td>\n      <td>58.0</td>\n      <td>20.4799</td>\n      <td>94.2553</td>\n      <td>2023-01-24 08:03:58 UTC</td>\n      <td>POINT (94.25530 20.47990)</td>\n    </tr>\n    <tr>\n      <th>7957</th>\n      <td>Mone</td>\n      <td>58.0</td>\n      <td>20.4799</td>\n      <td>94.2553</td>\n      <td>2023-01-28 06:26:43 UTC</td>\n      <td>POINT (94.25530 20.47990)</td>\n    </tr>\n    <tr>\n      <th>7958</th>\n      <td>Mone</td>\n      <td>58.0</td>\n      <td>20.4799</td>\n      <td>94.2553</td>\n      <td>2023-02-01 04:49:00 UTC</td>\n      <td>POINT (94.25530 20.47990)</td>\n    </tr>\n    <tr>\n      <th>7959</th>\n      <td>Mone</td>\n      <td>58.0</td>\n      <td>20.4799</td>\n      <td>94.2553</td>\n      <td>2023-02-09 11:26:56 UTC</td>\n      <td>POINT (94.25530 20.47990)</td>\n    </tr>\n  </tbody>\n</table>\n<p>247 rows × 6 columns</p>\n</div>"
     },
     "execution_count": 4,
     "metadata": {},
     "output_type": "execute_result"
    }
   ],
   "source": [
    "baleh_file[baleh_file['Category']==\"Mone\"]"
   ]
  },
  {
   "cell_type": "markdown",
   "metadata": {
    "collapsed": false
   },
   "source": [
    "Ambuclao 1; Angat 305; Bakun 663; Baluchaung-2 804(not use-low resolution); Bang_Lang 1012; Bersia 1381; Mone 7714;\n",
    "Sempor 12127; Sesan 12454; Shwegyin_(KyaukNaga) 12674; Sirikit 12909; Sirindhorn 13128; Song_Hinh_1 13427; SungaiLayang 13720;\n",
    "Temengor 14106"
   ]
  },
  {
   "cell_type": "code",
   "execution_count": 5,
   "metadata": {
    "collapsed": false,
    "ExecuteTime": {
     "end_time": "2023-06-15T10:10:44.798265400Z",
     "start_time": "2023-06-15T10:10:36.652159700Z"
    }
   },
   "outputs": [
    {
     "name": "stdout",
     "output_type": "stream",
     "text": [
      "Please wait a moment\n"
     ]
    }
   ],
   "source": [
    "import ee\n",
    "from datetime import datetime\n",
    "from shapely.geometry import Polygon\n",
    "\n",
    "row_368 = baleh_file.iloc[7714]\n",
    "row_368_poi = ee.Geometry.Point(row_368[3],row_368[2])\n",
    "\n",
    "# buffer_distance = 6000  # 定义一个缓冲区距离（以米为单位）\n",
    "# roi = row_368_poi.buffer(buffer_distance)  # 在目标点周围创建一个缓冲区\n",
    "\n",
    "cc = gpd.read_file('D:\\\\OneDrive - The University of Nottingham\\\\Dissertation\\\\Data\\\\example\\\\shp\\\\Mone.shp')\n",
    "coordinates = cc.geometry.values[0].exterior.coords\n",
    "polygon = Polygon(coordinates)\n",
    "geometry = ee.Geometry.Polygon(list(polygon.exterior.coords))\n",
    "\n",
    "#denfine Sentinel-2 image collection\n",
    "s2 = ee.ImageCollection(\"COPERNICUS/S2_SR_HARMONIZED\").filterBounds(row_368_poi) \\\n",
    "    .filter(ee.Filter.lte('CLOUDY_PIXEL_PERCENTAGE', 1)) \\\n",
    "    .filterDate('2019-12-01', '2019-12-30')  # time range\n",
    "\n",
    "# define clip function\n",
    "def clip_all(img):\n",
    "    return img.clip(geometry)\n",
    "\n",
    "# use clip function\n",
    "s2_clip = s2.map(clip_all)\n",
    "\n",
    "# obtain images list\n",
    "s2_list = s2_clip.toList(s2_clip.size())\n",
    "\n",
    "# 循环处理每个图像\n",
    "for i in range(s2_list.size().getInfo()):\n",
    "    img = ee.Image(s2_list.get(i))\n",
    "\n",
    "    # 获取日期信息\n",
    "    date = ee.Date(img.date()).format('yyyyMMdd').getInfo()\n",
    "\n",
    "    # 添加图层\n",
    "    vis_params = {'bands': ['B4', 'B3', 'B2'], 'max': 5048}\n",
    "    # folium.Map.add_ee_layer(img, vis_params, 'Image_' + date)\n",
    "\n",
    "    # 导出图像\n",
    "    task = ee.batch.Export.image.toDrive(\n",
    "        image= img.select(['B4', 'B3', 'B2']).visualize(**vis_params),\n",
    "        description='Mone_' + date,\n",
    "        region=geometry.getInfo()['coordinates'],\n",
    "        maxPixels=1e10,\n",
    "        fileNamePrefix='Mone_' + date,\n",
    "        folder='Satellite Images',\n",
    "        scale=5  # 替换为你需要的分辨率\n",
    "    )\n",
    "    task.start()\n",
    "\n",
    "# 等待导出任务完成\n",
    "while task.status()['state'] == 'RUNNING':\n",
    "    pass\n",
    "\n",
    "print('Please wait a moment')"
   ]
  }
 ],
 "metadata": {
  "kernelspec": {
   "display_name": "mle_tf",
   "language": "python",
   "name": "python3"
  },
  "language_info": {
   "codemirror_mode": {
    "name": "ipython",
    "version": 3
   },
   "file_extension": ".py",
   "mimetype": "text/x-python",
   "name": "python",
   "nbconvert_exporter": "python",
   "pygments_lexer": "ipython3",
   "version": "3.9.13"
  },
  "vscode": {
   "interpreter": {
    "hash": "fddd058380f18197d6d1449e4a4ff4a7ca6e7a82388d160542fc7dc2e7788eb2"
   }
  }
 },
 "nbformat": 4,
 "nbformat_minor": 0
}
